{
  "nbformat": 4,
  "nbformat_minor": 0,
  "metadata": {
    "colab": {
      "provenance": []
    },
    "kernelspec": {
      "name": "python3",
      "display_name": "Python 3"
    },
    "language_info": {
      "name": "python"
    }
  },
  "cells": [
    {
      "cell_type": "markdown",
      "source": [
        "# Step 1: Update and install necessary dependencies"
      ],
      "metadata": {
        "id": "hrNHpkWhD6mw"
      }
    },
    {
      "cell_type": "code",
      "source": [
        "!apt-get update && apt-get install -y cmake make g++\n",
        "\n",
        "!apt-get install -y cmake make g++ git\n",
        "\n",
        "# Install GoogleTest (since it's fetched during build, we need it for compiling)\n",
        "!apt-get install -y libgtest-dev\n"
      ],
      "metadata": {
        "id": "h8Z52TaO-px3"
      },
      "execution_count": 1,
      "outputs": []
    },
    {
      "cell_type": "markdown",
      "source": [
        "# Step 2: Download scripts from github"
      ],
      "metadata": {
        "id": "lweGA8pZEHVX"
      }
    },
    {
      "cell_type": "code",
      "source": [
        "!wget https://github.com/shubhamdotp1/Meta---Pretrain-code-bench/blob/main/test%20runners/cpp_windows/code_runner_colab.sh"
      ],
      "metadata": {
        "id": "3MkP4V4DAdn3"
      },
      "execution_count": 2,
      "outputs": []
    },
    {
      "cell_type": "code",
      "source": [
        "!wget https://raw.githubusercontent.com/shubhamdotp1/Meta---Pretrain-code-bench/main/test%20runners/cpp_windows/create_task.sh"
      ],
      "metadata": {
        "id": "tIILTFl-ACdP"
      },
      "execution_count": 3,
      "outputs": []
    },
    {
      "cell_type": "markdown",
      "source": [
        "# Step 3: Create a new task, use the `create_task.sh` script\n",
        "\n",
        "Run the script with a task ID:\n",
        "\n",
        "```\n",
        "!chmod +x create_task.sh\n",
        "!./create_task.sh <task_id>\n",
        "```"
      ],
      "metadata": {
        "id": "l_pZmm-xEOv3"
      }
    },
    {
      "cell_type": "code",
      "source": [
        "# Replace <task_id> with ID and run here."
      ],
      "metadata": {
        "colab": {
          "base_uri": "https://localhost:8080/"
        },
        "id": "xjevuGzn_3bB",
        "outputId": "ee5e79c0-4eed-45b5-b4ee-9d6100f7fc57"
      },
      "execution_count": 12,
      "outputs": [
        {
          "output_type": "stream",
          "name": "stdout",
          "text": [
            "Creating structure for task ID: 621300\n",
            "Task structure for 621300 created.\n"
          ]
        }
      ]
    },
    {
      "cell_type": "markdown",
      "source": [
        "# Step 4: Put Codes from labeling tool to files like `A.cpp`."
      ],
      "metadata": {
        "id": "9TdEJ60bFYA6"
      }
    },
    {
      "cell_type": "code",
      "source": [
        "# Nothing to run copy paste please."
      ],
      "metadata": {
        "id": "ziI07HOhFZwQ"
      },
      "execution_count": null,
      "outputs": []
    },
    {
      "cell_type": "markdown",
      "source": [
        "# Step 5 : Build and test tasks, use the `code_runner.sh` script:\n",
        "\n",
        "### Running a Specific Task\n",
        "\n",
        "```\n",
        "!chmod +x ./code_runner_colab.sh\n",
        "!./code_runner_colab.sh <task_id>\n",
        "```"
      ],
      "metadata": {
        "id": "_PCyX4ErEzhp"
      }
    },
    {
      "cell_type": "code",
      "execution_count": 4,
      "metadata": {
        "id": "vcHXzNkB9R_e"
      },
      "outputs": [],
      "source": [
        "# Replace <task_id> with ID (Same as before) and run here."
      ]
    },
    {
      "cell_type": "code",
      "source": [],
      "metadata": {
        "id": "CN7rdLt--K0P"
      },
      "execution_count": null,
      "outputs": []
    }
  ]
}